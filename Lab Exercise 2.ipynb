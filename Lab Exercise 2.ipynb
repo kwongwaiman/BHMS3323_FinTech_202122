{
 "cells": [
  {
   "cell_type": "markdown",
   "id": "heard-tennessee",
   "metadata": {},
   "source": [
    "# Lab Exercise 2"
   ]
  },
  {
   "cell_type": "markdown",
   "id": "brazilian-former",
   "metadata": {},
   "source": [
    "### You need to print the notebook as PDF and submit it on moodle\n",
    "#### The deadline of submission is 23:59, 4 March 2022"
   ]
  },
  {
   "cell_type": "markdown",
   "id": "elect-mainland",
   "metadata": {},
   "source": [
    "## Question 1\n",
    "\n",
    "Write a function to return a Python list with all the even numbers below the value of `k`.\n",
    "<br/>\n",
    "For example, if `k = 16`, your function should return a list of `[2,4,6,8,10,12,14]`"
   ]
  },
  {
   "cell_type": "markdown",
   "id": "floating-biotechnology",
   "metadata": {},
   "source": [
    "Name your function as `even_list()` that takes one argument named `k`."
   ]
  },
  {
   "cell_type": "code",
   "execution_count": 1,
   "id": "living-template",
   "metadata": {},
   "outputs": [
    {
     "name": "stdout",
     "output_type": "stream",
     "text": [
      "[4, 6]\n"
     ]
    }
   ],
   "source": [
    "# hints:\n",
    "# you can create an empty list and append items on it by the following code:\n",
    "\n",
    "a = []\n",
    "a.append(4)\n",
    "a.append(6)\n",
    "print(a)"
   ]
  },
  {
   "cell_type": "code",
   "execution_count": 2,
   "id": "occasional-danger",
   "metadata": {},
   "outputs": [],
   "source": [
    "# Question 1\n",
    "\n",
    "# write your code below\n",
    "\n"
   ]
  },
  {
   "cell_type": "code",
   "execution_count": 3,
   "id": "wanted-advantage",
   "metadata": {},
   "outputs": [],
   "source": [
    "# test your function here\n",
    "# even_list(16)"
   ]
  },
  {
   "cell_type": "markdown",
   "id": "bulgarian-capture",
   "metadata": {},
   "source": [
    "## Question 2\n",
    "\n",
    "**Write a function that converts the hexadecimal string to decimal value. You can NOT use any Python library/module to help you do this. You should name your function as `hex`, and it takes one argument as the input.**\n",
    "\n",
    "For example, if the input is \"F23A\", the decimal value is 62010, and the procedure in the conversion should be:\n",
    "\n",
    "\n",
    "![hex](images/lab_exercise02_hex.png)\n",
    "\n",
    "*Hints: you can use `int('A', 16)` to convert a hex string value to dec integer. Also, you can use the function `len(input)` to find out the length of the string. You can extract a particular character in a string by specifying an index.*\n"
   ]
  },
  {
   "cell_type": "code",
   "execution_count": 4,
   "id": "returning-ireland",
   "metadata": {},
   "outputs": [
    {
     "name": "stdout",
     "output_type": "stream",
     "text": [
      "4\n",
      "A\n",
      "10\n"
     ]
    }
   ],
   "source": [
    "# Below codes are hints\n",
    "# exmaple\n",
    "\n",
    "a = \"F23A\"\n",
    "print(len(a))\n",
    "print(a[3])\n",
    "print(int(a[3],16))\n"
   ]
  },
  {
   "cell_type": "code",
   "execution_count": 5,
   "id": "insured-fetish",
   "metadata": {},
   "outputs": [],
   "source": [
    "# Question 2\n",
    "\n",
    "input = \"F23A\"\n",
    "\n",
    "# Start the code below\n",
    "\n",
    "\n",
    "    \n"
   ]
  },
  {
   "cell_type": "code",
   "execution_count": 6,
   "id": "corporate-yugoslavia",
   "metadata": {},
   "outputs": [],
   "source": [
    "# test your code here\n",
    "# input = \"F23A\"\n",
    "# hex(input)"
   ]
  },
  {
   "cell_type": "markdown",
   "id": "sunrise-gambling",
   "metadata": {},
   "source": [
    "## Question 3\n",
    "\n",
    "\n",
    "**You want to develop a secret communication method with your friend. One day, you read a book about a simple substitution cypher and you want to implement it by using Python.**\n",
    "\n",
    "The logic of simple substitution is straightforward. You and your friend came up with the following naive substitution algorithm. \n",
    "\n",
    "\n",
    "![cipher](images/lab_exercise02_cipher.png)\n",
    "\n",
    "That is, you swap characters \"a\" with \"c\", \"d\" with \"q\", \"i\" with \"m\", and \"t\" with \"y\" and leave other characters unchanged.\n",
    "\n",
    "A plaintext \"raymond\" will be encrypted as \"rctionq\" based on your algorithm.\n",
    "\n",
    "\n",
    "**Implement the encryption algorithm and name your function as `encrypt`. Take one argument as the input, and one argument contains the key pairs. You are only required to handle the lowercase character.**\n",
    "\n",
    "\n",
    "A two-dimension array is used to represent the key-value pairs.\n",
    "\n",
    "`keys = [[\"a\", \"c\"], [\"c\", \"a\"], [\"d\", \"q\"], [\"i\", \"m\"], [\"m\", \"i\"], [\"q\", \"d\"], [\"t\", \"y\"], [\"y\", \"t\"]]`\n",
    "\n",
    "You can access the first key pair by `keys[0]`"
   ]
  },
  {
   "cell_type": "code",
   "execution_count": 7,
   "id": "descending-mailing",
   "metadata": {},
   "outputs": [
    {
     "data": {
      "text/plain": [
       "['a', 'c']"
      ]
     },
     "execution_count": 7,
     "metadata": {},
     "output_type": "execute_result"
    }
   ],
   "source": [
    "keys = [[\"a\", \"c\"], [\"c\", \"a\"], [\"d\", \"q\"], [\"i\", \"m\"], [\"m\", \"i\"], [\"q\", \"d\"], [\"t\", \"y\"], [\"y\", \"t\"]]\n",
    "\n",
    "keys[0]"
   ]
  },
  {
   "cell_type": "markdown",
   "id": "protective-crazy",
   "metadata": {},
   "source": [
    "The first key can be obtained by `keys[0][0]`"
   ]
  },
  {
   "cell_type": "code",
   "execution_count": 8,
   "id": "collective-animal",
   "metadata": {},
   "outputs": [
    {
     "data": {
      "text/plain": [
       "'a'"
      ]
     },
     "execution_count": 8,
     "metadata": {},
     "output_type": "execute_result"
    }
   ],
   "source": [
    "keys[0][0]"
   ]
  },
  {
   "cell_type": "markdown",
   "id": "convinced-chase",
   "metadata": {},
   "source": [
    "The first value of key \"a\" can be obtained by `keys[0][1]`"
   ]
  },
  {
   "cell_type": "code",
   "execution_count": 9,
   "id": "social-motor",
   "metadata": {},
   "outputs": [
    {
     "data": {
      "text/plain": [
       "'c'"
      ]
     },
     "execution_count": 9,
     "metadata": {},
     "output_type": "execute_result"
    }
   ],
   "source": [
    "keys[0][1]"
   ]
  },
  {
   "cell_type": "markdown",
   "id": "corresponding-preparation",
   "metadata": {},
   "source": [
    "The last pair of key can be obtained by the following example code:"
   ]
  },
  {
   "cell_type": "code",
   "execution_count": 10,
   "id": "responsible-decline",
   "metadata": {},
   "outputs": [
    {
     "name": "stdout",
     "output_type": "stream",
     "text": [
      "['y', 't']\n",
      "['y', 't']\n",
      "y\n",
      "t\n"
     ]
    }
   ],
   "source": [
    "last = len(keys)   # last = 8\n",
    "print(keys[(last-1)])     # the first index is 0, the last index is 7, and it will give you a list of [\"y\", \"t\"]\n",
    "\n",
    "# assign the last keypair to a variable named temp\n",
    "temp = keys[(last-1)]\n",
    "print(temp)     # it gives you the same ouput as above\n",
    "\n",
    "print(temp[0])  # \"y\"\n",
    "print(temp[1])  # \"t\"\n"
   ]
  },
  {
   "cell_type": "markdown",
   "id": "functioning-birmingham",
   "metadata": {},
   "source": [
    "*You can test your function by checking the following input-output pairs.*\n",
    "<br/>\n",
    "Input: \"raymond\"\n",
    "<br/>\n",
    "Ouput: \"rctionq\"\n",
    "\n",
    "<br/>\n",
    "Input: \"peter is a good guy\"\n",
    "<br/>\n",
    "Output: \"peyer ms c gooq gut\"\n",
    "\n",
    "**if you really can't use a flexible way to implement the code, you can forget about the `keys` variable and use `if-else` statements to complete it**"
   ]
  },
  {
   "cell_type": "code",
   "execution_count": 11,
   "id": "offshore-trustee",
   "metadata": {},
   "outputs": [],
   "source": [
    "# Question 3\n",
    "\n",
    "\n",
    "keys = [[\"a\", \"c\"], [\"c\", \"a\"], [\"d\", \"q\"], [\"i\", \"m\"], [\"m\", \"i\"], [\"q\", \"d\"], [\"t\", \"y\"], [\"y\", \"t\"]]\n",
    "\n",
    "input = \"raymond\"\n",
    "\n",
    "def encrypt(input, keys):\n",
    "    output = \"\"\n",
    "\n",
    "    # Write your code below:\n",
    "\n"
   ]
  },
  {
   "cell_type": "code",
   "execution_count": 12,
   "id": "empirical-script",
   "metadata": {},
   "outputs": [],
   "source": [
    "# Test your function in question 3\n",
    "# encrypt(\"raymond\", keys)\n"
   ]
  }
 ],
 "metadata": {
  "kernelspec": {
   "display_name": "fintechlab",
   "language": "python",
   "name": "fintechlab"
  },
  "language_info": {
   "codemirror_mode": {
    "name": "ipython",
    "version": 3
   },
   "file_extension": ".py",
   "mimetype": "text/x-python",
   "name": "python",
   "nbconvert_exporter": "python",
   "pygments_lexer": "ipython3",
   "version": "3.8.5"
  }
 },
 "nbformat": 4,
 "nbformat_minor": 5
}
