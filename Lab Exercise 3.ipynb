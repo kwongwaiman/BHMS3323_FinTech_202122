{
 "cells": [
  {
   "cell_type": "markdown",
   "id": "heard-tennessee",
   "metadata": {},
   "source": [
    "# Lab Exercise 3"
   ]
  },
  {
   "cell_type": "markdown",
   "id": "brazilian-former",
   "metadata": {},
   "source": [
    "### You need to print the notebook as PDF and submit it on moodle\n",
    "#### The deadline of submission is 23:59, 27 March 2022"
   ]
  },
  {
   "cell_type": "markdown",
   "id": "elect-mainland",
   "metadata": {},
   "source": [
    "## Case Background\n",
    "\n",
    "You are the teaching assistant of the subject BHMS3323. There are 20 students enrolled on your class, and you would like to use Python to record and analyse their learning performance.\n",
    "\n",
    "Four assessment components that determine the overall result of this subject are \"homework 1\", \"homework 2\", \"test\", and \"exam\". The weights of the components towards the final marks are:\n",
    "\n",
    "|homework 1| homework 2| test| exam|\n",
    "|:-:|:-:|:-:|:-:|\n",
    "|20%| 20%| 20%| 40%|\n",
    "\n",
    "The table below is the student list of the subject BHMS3323.\n",
    "\n",
    "![namelist](images/lab_exercise03_namelist.png)"
   ]
  },
  {
   "cell_type": "markdown",
   "id": "floating-biotechnology",
   "metadata": {},
   "source": [
    "## Question 1\n",
    "\n",
    "Create a Pandas `DataFrame` named `results` for storing the student's results. \n",
    "- Your dataframe should contain four columns named \"HW1\", \"HW2\", \"Test\", and \"Exam\". \n",
    "- You should use the student name as the index of the DataFrame.\n",
    "- You should initialize a zero mark for all the assessment components."
   ]
  },
  {
   "cell_type": "code",
   "execution_count": 1,
   "id": "living-template",
   "metadata": {},
   "outputs": [
    {
     "name": "stdout",
     "output_type": "stream",
     "text": [
      "[4, 6]\n"
     ]
    }
   ],
   "source": [
    "# Question 1\n",
    "# Write your code below:\n",
    "\n"
   ]
  },
  {
   "cell_type": "markdown",
   "id": "conceptual-devon",
   "metadata": {},
   "source": [
    "## Question 2\n",
    "\n",
    "The students got the following marks towards the semester's end. \n",
    "\n",
    "![namelist](images/lab_exercise03_marks.png)\n",
    "\n",
    "- Write code to update the marks in `data` according to the above table.\n",
    "- Add a column named 'total' in the DataFrame `results` with the overall marks for individual students\n",
    "- Write code to find out which student got the highest mark in this course.\n",
    "- Write code to find out which student got the lowest mark in this course.\n",
    "\n"
   ]
  },
  {
   "cell_type": "code",
   "execution_count": 18,
   "id": "fluid-cream",
   "metadata": {},
   "outputs": [],
   "source": [
    "# Question 2\n",
    "\n",
    "# Write your code below:"
   ]
  },
  {
   "cell_type": "markdown",
   "id": "integral-parker",
   "metadata": {},
   "source": [
    "## Question 3\n",
    "\n",
    "Suppose the following mark-to-grade conversion table is adopted in this course.\n",
    "\n",
    "|Mark range| Grade|\n",
    "|:-: | :-: |\n",
    "|49 or below | F |\n",
    "|50 to 59| D|\n",
    "|60 to 69| C|\n",
    "|70 to 79| B|\n",
    "|80 or above| A|\n",
    "\n",
    "- Add a column named 'grade' in the DataFrame `results` with the overall grade for individual students.\n",
    "\n",
    "\n"
   ]
  },
  {
   "cell_type": "code",
   "execution_count": 1,
   "id": "negative-comfort",
   "metadata": {},
   "outputs": [],
   "source": [
    "# Question 3\n",
    "\n",
    "# Write your code below:\n"
   ]
  },
  {
   "cell_type": "markdown",
   "id": "european-pearl",
   "metadata": {},
   "source": [
    "## Question 4\n",
    "\n",
    "Create a bar chart of the grade distribution of this subject. (i.e. you should show how many students got the different grades in your bar chart.)\n",
    "\n"
   ]
  },
  {
   "cell_type": "code",
   "execution_count": null,
   "id": "continent-struggle",
   "metadata": {},
   "outputs": [],
   "source": [
    "# Question 4\n",
    "\n",
    "# Write your code below:\n"
   ]
  }
 ],
 "metadata": {
  "kernelspec": {
   "display_name": "fintechlab",
   "language": "python",
   "name": "fintechlab"
  },
  "language_info": {
   "codemirror_mode": {
    "name": "ipython",
    "version": 3
   },
   "file_extension": ".py",
   "mimetype": "text/x-python",
   "name": "python",
   "nbconvert_exporter": "python",
   "pygments_lexer": "ipython3",
   "version": "3.8.5"
  }
 },
 "nbformat": 4,
 "nbformat_minor": 5
}
