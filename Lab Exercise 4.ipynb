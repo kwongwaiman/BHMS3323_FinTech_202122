{
 "cells": [
  {
   "cell_type": "markdown",
   "id": "heard-tennessee",
   "metadata": {},
   "source": [
    "# Lab Exercise 4"
   ]
  },
  {
   "cell_type": "markdown",
   "id": "brazilian-former",
   "metadata": {},
   "source": [
    "### You need to print the notebook as PDF and submit it on moodle\n",
    "#### The deadline of submission is 23:59, 17 April 2022"
   ]
  },
  {
   "cell_type": "markdown",
   "id": "elect-mainland",
   "metadata": {},
   "source": [
    "## Case Background\n",
    "\n",
    "You created a class called `Circle` as below:\n"
   ]
  },
  {
   "cell_type": "markdown",
   "id": "funky-secondary",
   "metadata": {},
   "source": [
    "```\n",
    "class Circle:\n",
    "    def __init__(self, a, b, r):\n",
    "        self.a = a\n",
    "        self.b = b\n",
    "        self.r = r\n",
    "    \n",
    "    def __str__(self):\n",
    "        return \"Circle center is ({a}, {b}), and the radius is {r}.\".format(a=self.a, b=self.b, r=self.r)\n",
    "```"
   ]
  },
  {
   "cell_type": "markdown",
   "id": "floating-biotechnology",
   "metadata": {},
   "source": [
    "## Question 1\n",
    "\n",
    "Add a method call `area()` which return the area of the circle in the `Circle` class. \n"
   ]
  },
  {
   "cell_type": "code",
   "execution_count": 6,
   "id": "living-template",
   "metadata": {},
   "outputs": [],
   "source": [
    "# Question 1\n",
    "import math   # you can get the pi value by using math.pi\n",
    "\n",
    "# Write your code below:\n",
    "\n"
   ]
  },
  {
   "cell_type": "code",
   "execution_count": 7,
   "id": "conceptual-position",
   "metadata": {},
   "outputs": [
    {
     "data": {
      "text/plain": [
       "113.09733552923255"
      ]
     },
     "execution_count": 7,
     "metadata": {},
     "output_type": "execute_result"
    }
   ],
   "source": [
    "# Checking your code for question 1\n",
    "\n",
    "circle_a = Circle(4,4,6)\n",
    "circle_a.area()"
   ]
  },
  {
   "cell_type": "markdown",
   "id": "conceptual-devon",
   "metadata": {},
   "source": [
    "## Question 2\n",
    "\n",
    "Override the comparison operators of `==`, `>`, `<`, `!=` of the `Circle` class.\n",
    "\n",
    "After implementing the functions, you should check your function with the following code.\n",
    "```\n",
    "circle_a = Circle(4,4,6)\n",
    "circle_b = Circle(2,2,7)\n",
    "\n",
    "print(circle_a == circle_b)\n",
    "print(circle_a > circle_b)\n",
    "print(circle_a < circle_b)\n",
    "print(circle_a != circle_b)\n",
    "\n",
    "```\n",
    "\n",
    "and the output should be False, False, True, True\n",
    "\n",
    "*Note: We define `==` in this question as the two circles have the same size. They are not necessarily at the same coordinates.*\n"
   ]
  },
  {
   "cell_type": "code",
   "execution_count": 53,
   "id": "fluid-cream",
   "metadata": {},
   "outputs": [],
   "source": [
    "# Question 2\n",
    "\n",
    "# Write your code below:\n",
    "\n",
    "\n",
    "    \n",
    "        "
   ]
  },
  {
   "cell_type": "code",
   "execution_count": 54,
   "id": "compact-finance",
   "metadata": {},
   "outputs": [
    {
     "name": "stdout",
     "output_type": "stream",
     "text": [
      "False\n",
      "False\n",
      "True\n",
      "True\n"
     ]
    }
   ],
   "source": [
    "# Checking your code for question 2\n",
    "\n",
    "circle_a = Circle(4,4,6)\n",
    "circle_b = Circle(2,2,7)\n",
    "\n",
    "print(circle_a == circle_b)\n",
    "print(circle_a > circle_b)\n",
    "print(circle_a < circle_b)\n",
    "print(circle_a != circle_b)\n"
   ]
  },
  {
   "cell_type": "markdown",
   "id": "integral-parker",
   "metadata": {},
   "source": [
    "## Question 3\n",
    "\n",
    "Write a class function `is_overlap(other)` to check if two circles are overlapped each other.\n",
    "\n",
    "\n",
    "\n",
    "\n"
   ]
  },
  {
   "cell_type": "code",
   "execution_count": 55,
   "id": "negative-comfort",
   "metadata": {},
   "outputs": [],
   "source": [
    "# Question 3\n",
    "\n",
    "# Write your code below:\n",
    "\n",
    "\n"
   ]
  },
  {
   "cell_type": "code",
   "execution_count": 65,
   "id": "defensive-spyware",
   "metadata": {},
   "outputs": [
    {
     "data": {
      "text/plain": [
       "True"
      ]
     },
     "execution_count": 65,
     "metadata": {},
     "output_type": "execute_result"
    }
   ],
   "source": [
    "# Checking your code for question 3\n",
    "\n",
    "circle_a = Circle(4,4,1)\n",
    "circle_b = Circle(2,2,3)\n",
    "\n",
    "circle_a.is_overlap(circle_b)\n"
   ]
  },
  {
   "cell_type": "code",
   "execution_count": 66,
   "id": "sharing-return",
   "metadata": {},
   "outputs": [
    {
     "data": {
      "text/plain": [
       "False"
      ]
     },
     "execution_count": 66,
     "metadata": {},
     "output_type": "execute_result"
    }
   ],
   "source": [
    "circle_a = Circle(4,4,2)\n",
    "circle_b = Circle(7,8,2)\n",
    "\n",
    "circle_a.is_overlap(circle_b)\n"
   ]
  }
 ],
 "metadata": {
  "kernelspec": {
   "display_name": "fintechlab",
   "language": "python",
   "name": "fintechlab"
  },
  "language_info": {
   "codemirror_mode": {
    "name": "ipython",
    "version": 3
   },
   "file_extension": ".py",
   "mimetype": "text/x-python",
   "name": "python",
   "nbconvert_exporter": "python",
   "pygments_lexer": "ipython3",
   "version": "3.8.5"
  }
 },
 "nbformat": 4,
 "nbformat_minor": 5
}
