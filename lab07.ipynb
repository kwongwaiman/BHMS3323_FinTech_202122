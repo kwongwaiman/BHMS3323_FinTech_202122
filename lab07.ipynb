{
 "cells": [
  {
   "cell_type": "markdown",
   "id": "vocal-internet",
   "metadata": {},
   "source": [
    "## BHMS3323 Practices of FinTech"
   ]
  },
  {
   "cell_type": "markdown",
   "id": "comparative-there",
   "metadata": {},
   "source": [
    "## Lab7 - Build your own blockchain 1"
   ]
  },
  {
   "cell_type": "markdown",
   "id": "prime-premium",
   "metadata": {},
   "source": [
    "In this tutorial, we are going to build our first blockchain.\n",
    "\n",
    "\n",
    "![blockchain](images/lab07_figure1.png)\n",
    "\n",
    "Suppose that we want to create a blockchain that stores all the money transactions data. To simplify the problem, each block in the blockchain will only store one single transaction, such as \"Joe sent $100 to Mary on 20 March 2021, 15:30:00\".  \n",
    "\n",
    "\n"
   ]
  },
  {
   "cell_type": "markdown",
   "id": "controversial-brooks",
   "metadata": {},
   "source": [
    "Let us create a class named `BlockChain` first.\n",
    "\n",
    "A Blockchain should have a list of blocks and a list of pending transactions (the MEMPOOL) be added to the chain.\n",
    "\n",
    "We use the class property `blocks` and `mem_pool` to store such information as a Python list.\n"
   ]
  },
  {
   "cell_type": "code",
   "execution_count": 1,
   "id": "earlier-colony",
   "metadata": {},
   "outputs": [],
   "source": [
    "import time\n",
    "\n",
    "class BlockChain:\n",
    "    def __init__(self):\n",
    "        self.blocks = []  # empty chain\n",
    "        self.mem_pool = [] # empty list\n",
    "    \n",
    "\n",
    "        "
   ]
  },
  {
   "cell_type": "markdown",
   "id": "located-memphis",
   "metadata": {},
   "source": [
    "### Transaction Data\n",
    "\n",
    "We will add all the transaction data in the MEMPOOL before creating a new block and adding it to the chain.\n",
    "\n",
    "A typical transaction data contains four attributes: the sender, recipient, amount, and transaction time. \n",
    "\n",
    "We use a Python dictionary to store the transaction data.\n",
    "\n",
    "Python dictionary stores data in a manner of key-value pairs."
   ]
  },
  {
   "cell_type": "code",
   "execution_count": 2,
   "id": "exterior-adjustment",
   "metadata": {},
   "outputs": [],
   "source": [
    "import time\n",
    "\n",
    "class BlockChain:\n",
    "    def __init__(self):\n",
    "        self.blocks = []  # empty chain\n",
    "        self.mem_pool = [] # empty list\n",
    "    \n",
    "    def new_transaction(self, sender, recipient, amount):\n",
    "        transaction = {\n",
    "            \"Sender\": sender,\n",
    "            \"Recipient\": recipient,\n",
    "            \"Amount(HKD)\": amount,\n",
    "            \"Datetime\": time.time()\n",
    "        }\n",
    "        self.mem_pool.append(transaction)\n",
    "        \n"
   ]
  },
  {
   "cell_type": "code",
   "execution_count": 4,
   "id": "velvet-teaching",
   "metadata": {},
   "outputs": [
    {
     "name": "stdout",
     "output_type": "stream",
     "text": [
      "[{'Sender': 'Ray', 'Recipient': 'Joe', 'Amount(HKD)': 200, 'Datetime': 1616664327.3144493}, {'Sender': 'Peter', 'Recipient': 'Bill', 'Amount(HKD)': 400, 'Datetime': 1616664327.3144493}]\n"
     ]
    }
   ],
   "source": [
    "blockchain = BlockChain()\n",
    "\n",
    "blockchain.new_transaction(\"Ray\", \"Joe\", 200)\n",
    "blockchain.new_transaction(\"Peter\", \"Bill\", 400)\n",
    "\n",
    "# print the mem_pool out for checking\n",
    "print(blockchain.mem_pool)"
   ]
  },
  {
   "cell_type": "markdown",
   "id": "external-peripheral",
   "metadata": {},
   "source": [
    "### Block\n",
    "\n",
    "In Blockchain, each block should contain a block number, nounce, transaction data, and the previous block's hash value.\n",
    "\n",
    "We define the `add_new_block()` function to create a new block.\n",
    "\n",
    "The function will extract all the transactions in the MEMPOOL then form the block. \n",
    "\n",
    "\n",
    "\n"
   ]
  },
  {
   "cell_type": "code",
   "execution_count": 3,
   "id": "acoustic-lawrence",
   "metadata": {},
   "outputs": [],
   "source": [
    "import time\n",
    "import json\n",
    "import hashlib\n",
    "\n",
    "class BlockChain:\n",
    "    def __init__(self):\n",
    "        self.blocks = []  # empty chain\n",
    "        self.mem_pool = [] # empty list\n",
    "        \n",
    "        ## add Genesis block\n",
    "        self.add_new_block(100, \"Genesis Block\")\n",
    "        \n",
    "        \n",
    "    def new_transaction(self, sender, recipient, amount):\n",
    "        transaction = {\n",
    "            \"Sender\": sender,\n",
    "            \"Recipient\": recipient,\n",
    "            \"Amount(HKD)\": amount,\n",
    "            \"Datetime\": time.time()\n",
    "        }\n",
    "        self.mem_pool.append(transaction)\n",
    "    \n",
    "    def add_new_block(self, nounce, previous_hash=None):\n",
    "        block = {\n",
    "            'index': len(self.blocks) + 1,  # the next value of index\n",
    "            'timestamp': time.time(),\n",
    "            'transactions': self.mem_pool,\n",
    "            'nounce': nounce,\n",
    "            'previous_hash': previous_hash or self.hash(self.blocks[-1]),\n",
    "        }\n",
    "        \n",
    "        self.mem_pool = [] # clear the pool\n",
    "        self.blocks.append(block) # append the block to the chain\n",
    "        \n",
    "        return block\n",
    "    \n",
    "    def hash(self, block):\n",
    "        data = json.dumps(block, sort_keys=True)  # convert the json object to string\n",
    "        return hashlib.sha256(data.encode()).hexdigest()\n",
    "        "
   ]
  },
  {
   "cell_type": "code",
   "execution_count": 5,
   "id": "computational-leave",
   "metadata": {},
   "outputs": [
    {
     "data": {
      "text/plain": [
       "{'index': 2,\n",
       " 'timestamp': 1616664327.3264186,\n",
       " 'transactions': [{'Sender': 'Ray',\n",
       "   'Recipient': 'Joe',\n",
       "   'Amount(HKD)': 200,\n",
       "   'Datetime': 1616664327.3144493},\n",
       "  {'Sender': 'Peter',\n",
       "   'Recipient': 'Bill',\n",
       "   'Amount(HKD)': 400,\n",
       "   'Datetime': 1616664327.3144493}],\n",
       " 'nounce': 100,\n",
       " 'previous_hash': '8aae8c5f6ce17be7d3ecec4b471ec2f3fd498d6c5b27d4c89470ac80aaed1e95'}"
      ]
     },
     "execution_count": 5,
     "metadata": {},
     "output_type": "execute_result"
    }
   ],
   "source": [
    "# now take out the transactions from mem pool and create a new block.\n",
    "blockchain.add_new_block(100)"
   ]
  },
  {
   "cell_type": "code",
   "execution_count": 6,
   "id": "north-acoustic",
   "metadata": {},
   "outputs": [
    {
     "name": "stdout",
     "output_type": "stream",
     "text": [
      "[{'index': 1, 'timestamp': 1616664327.3144493, 'transactions': [], 'nounce': 100, 'previous_hash': 'Genesis Block'}, {'index': 2, 'timestamp': 1616664327.3264186, 'transactions': [{'Sender': 'Ray', 'Recipient': 'Joe', 'Amount(HKD)': 200, 'Datetime': 1616664327.3144493}, {'Sender': 'Peter', 'Recipient': 'Bill', 'Amount(HKD)': 400, 'Datetime': 1616664327.3144493}], 'nounce': 100, 'previous_hash': '8aae8c5f6ce17be7d3ecec4b471ec2f3fd498d6c5b27d4c89470ac80aaed1e95'}]\n"
     ]
    }
   ],
   "source": [
    "# check the blockchain\n",
    "print(blockchain.blocks)"
   ]
  },
  {
   "cell_type": "code",
   "execution_count": 7,
   "id": "immediate-cigarette",
   "metadata": {},
   "outputs": [
    {
     "name": "stdout",
     "output_type": "stream",
     "text": [
      "{'index': 1, 'timestamp': 1616664327.3144493, 'transactions': [], 'nounce': 100, 'previous_hash': 'Genesis Block'}\n",
      "{'index': 2, 'timestamp': 1616664327.3264186, 'transactions': [{'Sender': 'Ray', 'Recipient': 'Joe', 'Amount(HKD)': 200, 'Datetime': 1616664327.3144493}, {'Sender': 'Peter', 'Recipient': 'Bill', 'Amount(HKD)': 400, 'Datetime': 1616664327.3144493}], 'nounce': 100, 'previous_hash': '8aae8c5f6ce17be7d3ecec4b471ec2f3fd498d6c5b27d4c89470ac80aaed1e95'}\n"
     ]
    }
   ],
   "source": [
    "# print out block by block\n",
    "for block in blockchain.blocks:\n",
    "    print(block)"
   ]
  },
  {
   "cell_type": "code",
   "execution_count": 8,
   "id": "hungarian-vatican",
   "metadata": {},
   "outputs": [
    {
     "name": "stdout",
     "output_type": "stream",
     "text": [
      "Block 1:\n",
      "Createion time: 1616664327.3144493\n",
      "Previous hash: Genesis Block\n",
      "Hash:8aae8c5f6ce17be7d3ecec4b471ec2f3fd498d6c5b27d4c89470ac80aaed1e95\n",
      "\n",
      "Block 2:\n",
      "Createion time: 1616664327.3264186\n",
      "Previous hash: 8aae8c5f6ce17be7d3ecec4b471ec2f3fd498d6c5b27d4c89470ac80aaed1e95\n",
      "Hash:141d6770bffae998229c49fd9323ff4281b5e1d084295afbd241cf8d43033fd4\n",
      "{'Sender': 'Ray', 'Recipient': 'Joe', 'Amount(HKD)': 200, 'Datetime': 1616664327.3144493}\n",
      "{'Sender': 'Peter', 'Recipient': 'Bill', 'Amount(HKD)': 400, 'Datetime': 1616664327.3144493}\n",
      "\n"
     ]
    }
   ],
   "source": [
    "# Find a way to make the output preitter\n",
    "\n",
    "for block in blockchain.blocks:\n",
    "    print(\"Block {}:\".format(block['index']))\n",
    "    print(\"Creation time: {}\".format(block['timestamp']))\n",
    "    print(\"Previous hash: {}\".format(block['previous_hash']))\n",
    "    print(\"Hash:{}\".format(blockchain.hash(block)))\n",
    "\n",
    "    for transaction in block[\"transactions\"]:\n",
    "        print(transaction)\n",
    "    \n",
    "    print(\"\")"
   ]
  },
  {
   "cell_type": "markdown",
   "id": "reasonable-start",
   "metadata": {},
   "source": [
    "### Unix Time\n",
    "\n",
    "You may notice that our time is a long number instead of a human-readable format.\n",
    "\n",
    "Computers usually use \"Unix timestamp\" to track time as a running total of seconds. \n",
    "The count starts at the Unix Epoch on 1st January 1970 at UTC. \n",
    "The number that Python returns is simply the number of seconds between today and the Unix Epoch.\n",
    "\n",
    "To convert a unix timestamp back to a readable format, we use the function `strftime()` in the `datatime` package."
   ]
  },
  {
   "cell_type": "code",
   "execution_count": 9,
   "id": "cooked-shareware",
   "metadata": {},
   "outputs": [
    {
     "name": "stdout",
     "output_type": "stream",
     "text": [
      "time in timestamp 1616664327.3902476\n",
      "Formated time: 2021-03-25 17:25:27\n"
     ]
    }
   ],
   "source": [
    "import datetime\n",
    "import time\n",
    "\n",
    "timestamp = time.time()\n",
    "print(\"time in timestamp {}\".format(timestamp))\n",
    "\n",
    "str_time = datetime.datetime.fromtimestamp(timestamp).strftime(\"%Y-%m-%d %H:%M:%S\")\n",
    "print(\"Formated time: {}\".format(str_time))"
   ]
  },
  {
   "cell_type": "markdown",
   "id": "friendly-laugh",
   "metadata": {},
   "source": [
    "### Write a `print()` function for your blockchain\n",
    "\n",
    "\n",
    "\n"
   ]
  },
  {
   "cell_type": "code",
   "execution_count": 10,
   "id": "danish-wound",
   "metadata": {},
   "outputs": [],
   "source": [
    "import time\n",
    "import json\n",
    "import hashlib\n",
    "import datetime\n",
    "\n",
    "class BlockChain:\n",
    "    def __init__(self):\n",
    "        self.blocks = []  # empty chain\n",
    "        self.mem_pool = [] # empty list\n",
    "        \n",
    "        ## add Genesis block\n",
    "        self.add_new_block(100, \"Genesis Block\")\n",
    "        \n",
    "        \n",
    "    def new_transaction(self, sender, recipient, amount):\n",
    "        transaction = {\n",
    "            \"Sender\": sender,\n",
    "            \"Recipient\": recipient,\n",
    "            \"Amount(HKD)\": amount,\n",
    "            \"Datetime\": time.time()\n",
    "        }\n",
    "        self.mem_pool.append(transaction)\n",
    "    \n",
    "    def add_new_block(self, nounce, previous_hash=None):\n",
    "        block = {\n",
    "            'index': len(self.blocks) + 1,  # the next value of index\n",
    "            'timestamp': time.time(),\n",
    "            'transactions': self.mem_pool,\n",
    "            'nounce': nounce,\n",
    "            'previous_hash': previous_hash or self.hash(self.blocks[-1]),\n",
    "        }\n",
    "        \n",
    "        self.mem_pool = [] # clear the pool\n",
    "        self.blocks.append(block) # append the block to the chain\n",
    "        \n",
    "        return block\n",
    "    \n",
    "    def hash(self, block):\n",
    "        data = json.dumps(block, sort_keys=True)  # convert the json object to string\n",
    "        return hashlib.sha256(data.encode()).hexdigest()\n",
    "        \n",
    "    def print(self):\n",
    "        for block in self.blocks:\n",
    "            print(\"Block {}:\".format(block['index']))\n",
    "            print(\"Createion time: {}\".format( self.convert_time(block['timestamp'])))\n",
    "            print(\"Previous hash: {}\".format(block['previous_hash']))\n",
    "            print(\"Hash:{}\".format(self.hash(block)))\n",
    "\n",
    "            for transaction in block[\"transactions\"]:\n",
    "                print(transaction)\n",
    "\n",
    "            print(\"\")\n",
    "        \n",
    "    def convert_time(self, timestamp):\n",
    "        return datetime.datetime.fromtimestamp(timestamp).strftime(\"%Y-%m-%d %H:%M:%S\")\n",
    "        "
   ]
  },
  {
   "cell_type": "code",
   "execution_count": 11,
   "id": "fatty-manhattan",
   "metadata": {},
   "outputs": [
    {
     "name": "stdout",
     "output_type": "stream",
     "text": [
      "Block 1:\n",
      "Createion time: 2021-03-25 17:25:27\n",
      "Previous hash: Genesis Block\n",
      "Hash:2d4b4ddaa3c22534764147ef007c7126894bf68c0a600cd9459c11ddd194e9da\n",
      "\n",
      "Block 2:\n",
      "Createion time: 2021-03-25 17:25:27\n",
      "Previous hash: 2d4b4ddaa3c22534764147ef007c7126894bf68c0a600cd9459c11ddd194e9da\n",
      "Hash:a98cd63165bf5ff2297388f961468e5bef55f48c9b42ce8fbf69a242451d3428\n",
      "{'Sender': 'Ray', 'Recipient': 'Joe', 'Amount(HKD)': 200, 'Datetime': 1616664327.4221604}\n",
      "{'Sender': 'Peter', 'Recipient': 'Bill', 'Amount(HKD)': 400, 'Datetime': 1616664327.4221604}\n",
      "\n",
      "Block 3:\n",
      "Createion time: 2021-03-25 17:25:27\n",
      "Previous hash: a98cd63165bf5ff2297388f961468e5bef55f48c9b42ce8fbf69a242451d3428\n",
      "Hash:017c3ca10891932040966291c17a6a4bd1ea9a013a3d561f53813eff9a0f00f5\n",
      "{'Sender': 'Christine', 'Recipient': 'Ray', 'Amount(HKD)': 300, 'Datetime': 1616664327.4221604}\n",
      "{'Sender': 'Peter', 'Recipient': 'Ray', 'Amount(HKD)': 500, 'Datetime': 1616664327.4221604}\n",
      "{'Sender': 'Ray', 'Recipient': 'Amy', 'Amount(HKD)': 100, 'Datetime': 1616664327.4221604}\n",
      "{'Sender': 'Peter', 'Recipient': 'Bill', 'Amount(HKD)': 200, 'Datetime': 1616664327.4221604}\n",
      "\n"
     ]
    }
   ],
   "source": [
    "# Test your blockchain\n",
    "\n",
    "blockchain = BlockChain()\n",
    "\n",
    "blockchain.new_transaction(\"Ray\", \"Joe\", 200)\n",
    "blockchain.new_transaction(\"Peter\", \"Bill\", 400)\n",
    "blockchain.add_new_block(100)\n",
    "\n",
    "\n",
    "blockchain.new_transaction(\"Christine\", \"Ray\", 300)\n",
    "blockchain.new_transaction(\"Peter\", \"Ray\", 500)\n",
    "blockchain.new_transaction(\"Ray\", \"Amy\", 100)\n",
    "blockchain.new_transaction(\"Peter\", \"Bill\", 200)\n",
    "blockchain.add_new_block(100)\n",
    "\n",
    "blockchain.print()"
   ]
  },
  {
   "cell_type": "markdown",
   "id": "diagnostic-composite",
   "metadata": {},
   "source": [
    "### What to do next?\n",
    "\n",
    "Next week, we will implement blockchain's 'mining' feature by setting the difficulty level. We will use the variable `nounce` to solve the cryptography puzzle.\n",
    "\n",
    "We will also implement the `verify()` function to check whether a block has changed. See you next week."
   ]
  },
  {
   "cell_type": "code",
   "execution_count": null,
   "id": "optimum-explosion",
   "metadata": {},
   "outputs": [],
   "source": []
  }
 ],
 "metadata": {
  "kernelspec": {
   "display_name": "fintechlab",
   "language": "python",
   "name": "fintechlab"
  },
  "language_info": {
   "codemirror_mode": {
    "name": "ipython",
    "version": 3
   },
   "file_extension": ".py",
   "mimetype": "text/x-python",
   "name": "python",
   "nbconvert_exporter": "python",
   "pygments_lexer": "ipython3",
   "version": "3.8.5"
  }
 },
 "nbformat": 4,
 "nbformat_minor": 5
}
