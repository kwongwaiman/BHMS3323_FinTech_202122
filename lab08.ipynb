{
 "cells": [
  {
   "cell_type": "markdown",
   "id": "vocal-internet",
   "metadata": {},
   "source": [
    "## BHMS3323 Practices of FinTech"
   ]
  },
  {
   "cell_type": "markdown",
   "id": "comparative-there",
   "metadata": {},
   "source": [
    "## Lab8 - Build your own blockchain 2\n",
    "\n",
    "In lab 7, we built the skeleton code of blockchain.\n",
    "\n",
    "Our Blockchain stores transaction data and has the following characteristics:\n",
    "\n",
    "1. New transactions will be placed into the memory pool (MEMPOOL).\n",
    "2. Transaction data will be extracted from the MEMPOOL and be included in a new block.\n",
    "3. The new block contains the information of transaction data and the previous block's hash value.\n",
    "4. New block will be appended in the blockchain without any checking. \n",
    "\n",
    "Below are the skeleton code developed in the previous lesson:\n"
   ]
  },
  {
   "cell_type": "code",
   "execution_count": 1,
   "id": "parallel-bridal",
   "metadata": {},
   "outputs": [],
   "source": [
    "import time\n",
    "import json\n",
    "import hashlib\n",
    "import datetime\n",
    "\n",
    "class BlockChain:\n",
    "    def __init__(self):\n",
    "        self.blocks = []  # empty chain\n",
    "        self.mem_pool = [] # empty list\n",
    "        \n",
    "        ## add Genesis block\n",
    "        self.add_new_block(100, \"Genesis Block\")\n",
    "        \n",
    "        \n",
    "    def new_transaction(self, sender, recipient, amount):\n",
    "        transaction = {\n",
    "            \"Sender\": sender,\n",
    "            \"Recipient\": recipient,\n",
    "            \"Amount(HKD)\": amount,\n",
    "            \"Datetime\": time.time()\n",
    "        }\n",
    "        self.mem_pool.append(transaction)\n",
    "    \n",
    "    def add_new_block(self, nounce, previous_hash=None):\n",
    "        block = {\n",
    "            'index': len(self.blocks) + 1,  # the next value of index\n",
    "            'timestamp': time.time(),\n",
    "            'transactions': self.mem_pool,\n",
    "            'nounce': nounce,\n",
    "            'previous_hash': previous_hash or self.hash(self.blocks[-1]),\n",
    "        }\n",
    "        \n",
    "        self.mem_pool = [] # clear the pool\n",
    "        self.blocks.append(block) # append the block to the chain\n",
    "        \n",
    "        return block\n",
    "    \n",
    "    def hash(self, block):\n",
    "        data = json.dumps(block, sort_keys=True)  # convert the json object to string\n",
    "        return hashlib.sha256(data.encode()).hexdigest()\n",
    "        \n",
    "    def print(self):\n",
    "        for block in self.blocks:\n",
    "            print(\"Block {}:\".format(block['index']))\n",
    "            print(\"Createion time: {}\".format( self.convert_time(block['timestamp'])))\n",
    "            print(\"Previous hash: {}\".format(block['previous_hash']))\n",
    "            print(\"Hash:{}\".format(self.hash(block)))\n",
    "\n",
    "            for transaction in block[\"transactions\"]:\n",
    "                print(transaction)\n",
    "\n",
    "            print(\"\")\n",
    "        \n",
    "    def convert_time(self, timestamp):\n",
    "        return datetime.datetime.fromtimestamp(timestamp).strftime(\"%Y-%m-%d %H:%M:%S\")\n",
    "        "
   ]
  },
  {
   "cell_type": "markdown",
   "id": "failing-object",
   "metadata": {},
   "source": [
    "## Test the blockchain\n",
    "\n",
    "Now, let's test our blockchain by building 2 blocks containing 6 transactions.\n",
    "\n",
    "### 1st Block\n",
    "- The first block in the blockchain is the genesis block in creation; the genesis block contains no useful information.\n",
    "\n",
    "### 2nd block\n",
    "- The second block contains two transactions:\n",
    "1. Ray sends Joe \\$200\n",
    "2. Peter sends Bill \\$400\n",
    "\n",
    "### 3rd block\n",
    "- The third block contains two transactions:\n",
    "1. Christine sends Ray \\$300\n",
    "2. Peter sends Ray \\$500\n",
    "3. Ray sends Amy \\$100\n",
    "4. Peter sends Bill \\$200\n"
   ]
  },
  {
   "cell_type": "code",
   "execution_count": 2,
   "id": "constant-chaos",
   "metadata": {},
   "outputs": [
    {
     "name": "stdout",
     "output_type": "stream",
     "text": [
      "Block 1:\n",
      "Createion time: 2021-04-07 21:03:49\n",
      "Previous hash: Genesis Block\n",
      "Hash:0ba1aad51bad1aa325ff00cd24704f008880924575324c3dfd74f4067a81d230\n",
      "\n",
      "Block 2:\n",
      "Createion time: 2021-04-07 21:03:49\n",
      "Previous hash: 0ba1aad51bad1aa325ff00cd24704f008880924575324c3dfd74f4067a81d230\n",
      "Hash:418067de390918b4d67a4fcaa958b963d6bad481c60d7a855a7c87ea73cb8fd4\n",
      "{'Sender': 'Ray', 'Recipient': 'Joe', 'Amount(HKD)': 200, 'Datetime': 1617800629.0504622}\n",
      "{'Sender': 'Peter', 'Recipient': 'Bill', 'Amount(HKD)': 400, 'Datetime': 1617800629.0504622}\n",
      "\n",
      "Block 3:\n",
      "Createion time: 2021-04-07 21:03:49\n",
      "Previous hash: 418067de390918b4d67a4fcaa958b963d6bad481c60d7a855a7c87ea73cb8fd4\n",
      "Hash:268bfdd8e7c2feae9166d29e943b65521fc76993c31bf58e244cddc75d2c5622\n",
      "{'Sender': 'Christine', 'Recipient': 'Ray', 'Amount(HKD)': 300, 'Datetime': 1617800629.0504622}\n",
      "{'Sender': 'Peter', 'Recipient': 'Ray', 'Amount(HKD)': 500, 'Datetime': 1617800629.0504622}\n",
      "{'Sender': 'Ray', 'Recipient': 'Amy', 'Amount(HKD)': 100, 'Datetime': 1617800629.0504622}\n",
      "{'Sender': 'Peter', 'Recipient': 'Bill', 'Amount(HKD)': 200, 'Datetime': 1617800629.0504622}\n",
      "\n"
     ]
    }
   ],
   "source": [
    "# Test your blockchain\n",
    "\n",
    "blockchain = BlockChain()\n",
    "\n",
    "# Add the transaction in the MEM_POOL.\n",
    "blockchain.new_transaction(\"Ray\", \"Joe\", 200)\n",
    "blockchain.new_transaction(\"Peter\", \"Bill\", 400)\n",
    "\n",
    "# Create a new block and append the block to the chain.\n",
    "blockchain.add_new_block(100)\n",
    "\n",
    "\n",
    "blockchain.new_transaction(\"Christine\", \"Ray\", 300)\n",
    "blockchain.new_transaction(\"Peter\", \"Ray\", 500)\n",
    "blockchain.new_transaction(\"Ray\", \"Amy\", 100)\n",
    "blockchain.new_transaction(\"Peter\", \"Bill\", 200)\n",
    "blockchain.add_new_block(100)\n",
    "\n",
    "blockchain.print()"
   ]
  },
  {
   "cell_type": "markdown",
   "id": "cosmetic-proxy",
   "metadata": {},
   "source": [
    "## Adding difficulty\n",
    "\n",
    "- Blockchain applications such as Bitcoin set a target for miners to accomplish a certain hash.\n",
    "To keep the blockchain's growth stable, network **difficulty** is introduced to control the average time for a new block in the blockchain.\n",
    "- The **difficulty** of a cryptographic puzzle depends on the number of leading zeros in the target. \n",
    "- The more leading zeros of the hash value of the target, the more difficult it is to generate a block.\n",
    "\n",
    "We modify the `add_new_block()` function to introduce the difficulty in our blockchain.\n",
    "\n",
    "\n",
    "*Orginal code:*\n",
    "\n",
    "```\n",
    "    def add_new_block(self, nounce, previous_hash=None):\n",
    "        block = {\n",
    "            'index': len(self.blocks) + 1,  # the next value of index\n",
    "            'timestamp': time.time(),\n",
    "            'transactions': self.mem_pool,\n",
    "            'nounce': nounce,\n",
    "            'previous_hash': previous_hash or self.hash(self.blocks[-1]),\n",
    "        }\n",
    "        \n",
    "        self.mem_pool = [] # clear the pool\n",
    "        self.blocks.append(block) # append the block to the chain\n",
    " ```\n",
    " \n",
    " We are going to add the followings in the `add_new_block()` function:\n",
    " 1. Add a variable `difficulty` to represent the difficulty level. It represents the number of leading zeros of the hash value needed.\n",
    " 2. As we will use the variable `nounce` to generate a different hash value, we take it out from the function signature, which allows the function to keep changing it in a loop.\n",
    " 3. To help check whether a hash value fulfils the difficulty level, we write a function `check_leading_zeros()`.\n",
    " \n",
    "\n",
    "```\n",
    "def check_leading_zeros(self, hash_value, difficulty):    \n",
    "        for i in range(0, difficulty): # extract the character at first difficulty_level position\n",
    "            if hash_value[i] != \"0\":\n",
    "                return False\n",
    "        return True\n",
    "\n",
    "```\n",
    "\n",
    "4. The code for solving the difficulty by bute force are as follows:\n",
    "\n",
    "```\n",
    "while not self.check_leading_zeros(hash_value, difficulty):\n",
    "    nounce = nounce + 1  # try next nounce\n",
    "    block['nounce'] = nounce\n",
    "    hash_value = self.hash(block)\n",
    "```\n",
    "\n",
    "![nounce](images/lab08_figure1.png)"
   ]
  },
  {
   "cell_type": "code",
   "execution_count": 3,
   "id": "lightweight-scope",
   "metadata": {},
   "outputs": [],
   "source": [
    "import time\n",
    "import json\n",
    "import hashlib\n",
    "import datetime\n",
    "\n",
    "class BlockChain:\n",
    "    def __init__(self):\n",
    "        self.blocks = []  # empty chain\n",
    "        self.mem_pool = [] # empty list\n",
    "        \n",
    "        ## add Genesis block\n",
    "        self.add_new_block(\"Genesis Block\")\n",
    "        \n",
    "        \n",
    "    def new_transaction(self, sender, recipient, amount):\n",
    "        transaction = {\n",
    "            \"Sender\": sender,\n",
    "            \"Recipient\": recipient,\n",
    "            \"Amount(HKD)\": amount,\n",
    "            \"Datetime\": time.time()\n",
    "        }\n",
    "        self.mem_pool.append(transaction)\n",
    "    \n",
    "    def add_new_block(self, previous_hash=None):\n",
    "        \n",
    "        difficulty = 2 # number of leading zeros needed\n",
    "        \n",
    "        nounce = 1 # set nounce to 1 first\n",
    "        \n",
    "        block = {\n",
    "            'index': len(self.blocks) + 1,  # the next value of index\n",
    "            'timestamp': time.time(),\n",
    "            'transactions': self.mem_pool,\n",
    "            'nounce': nounce,\n",
    "            'previous_hash': previous_hash or self.hash(self.blocks[-1]),\n",
    "        }\n",
    "        \n",
    "        hash_value = self.hash(block)\n",
    "        \n",
    "        # time the process\n",
    "        print(\"Try adding block...\")\n",
    "        start_time = time.time()\n",
    "        \n",
    "        while not self.check_leading_zeros(hash_value, difficulty):\n",
    "            nounce = nounce + 1  # try next nounce\n",
    "            block['nounce'] = nounce\n",
    "            hash_value = self.hash(block)\n",
    "\n",
    "            \n",
    "        \n",
    "        \n",
    "        self.mem_pool = [] # clear the pool\n",
    "        self.blocks.append(block) # append the block to the chain\n",
    "        \n",
    "        \n",
    "        print(\"Block added.\")\n",
    "        end_time = time.time()\n",
    "        print(\"Total time needed is {} seconds:\".format(end_time - start_time))\n",
    "        \n",
    "        #return block\n",
    "    \n",
    "    def hash(self, block):\n",
    "        data = json.dumps(block, sort_keys=True)  # convert the json object to string\n",
    "        return hashlib.sha256(data.encode()).hexdigest()\n",
    "        \n",
    "    def print(self):\n",
    "        for block in self.blocks:\n",
    "            print(\"Block {}:\".format(block['index']))\n",
    "            print(\"Nounce {}\".format(block['nounce']))\n",
    "            print(\"Createion time: {}\".format( self.convert_time(block['timestamp'])))\n",
    "            print(\"Previous hash: {}\".format(block['previous_hash']))\n",
    "            print(\"Hash:{}\".format(self.hash(block)))\n",
    "\n",
    "            for transaction in block[\"transactions\"]:\n",
    "                print(transaction)\n",
    "\n",
    "            print(\"\")\n",
    "        \n",
    "    def convert_time(self, timestamp):\n",
    "        return datetime.datetime.fromtimestamp(timestamp).strftime(\"%Y-%m-%d %H:%M:%S\")\n",
    "        \n",
    "    def check_leading_zeros(self, hash_value, difficulty):    \n",
    "        for i in range(0, difficulty): # extract the character at first difficulty_level position\n",
    "            if hash_value[i] != \"0\":\n",
    "                return False\n",
    "        return True"
   ]
  },
  {
   "cell_type": "code",
   "execution_count": 4,
   "id": "annoying-absence",
   "metadata": {},
   "outputs": [
    {
     "name": "stdout",
     "output_type": "stream",
     "text": [
      "Try adding block...\n",
      "Block added.\n",
      "Total time needed is 0.0 seconds:\n",
      "Try adding block...\n",
      "Block added.\n",
      "Total time needed is 0.0 seconds:\n",
      "Try adding block...\n",
      "Block added.\n",
      "Total time needed is 0.001995086669921875 seconds:\n"
     ]
    }
   ],
   "source": [
    "blockchain = BlockChain()\n",
    "\n",
    "blockchain.new_transaction(\"Ray\", \"Joe\", 200)\n",
    "blockchain.new_transaction(\"Peter\", \"Bill\", 400)\n",
    "blockchain.add_new_block()\n",
    "\n",
    "\n",
    "blockchain.new_transaction(\"Christine\", \"Ray\", 300)\n",
    "blockchain.new_transaction(\"Peter\", \"Ray\", 500)\n",
    "blockchain.new_transaction(\"Ray\", \"Amy\", 100)\n",
    "blockchain.new_transaction(\"Peter\", \"Bill\", 200)\n",
    "blockchain.add_new_block()\n"
   ]
  },
  {
   "cell_type": "code",
   "execution_count": 5,
   "id": "conservative-strike",
   "metadata": {},
   "outputs": [
    {
     "name": "stdout",
     "output_type": "stream",
     "text": [
      "Block 1:\n",
      "Nounce 4\n",
      "Createion time: 2021-04-07 21:03:49\n",
      "Previous hash: Genesis Block\n",
      "Hash:003a21e1ee316d13542645d368bf125c9c854641795c15ff75cb52ffdc310289\n",
      "\n",
      "Block 2:\n",
      "Nounce 28\n",
      "Createion time: 2021-04-07 21:03:49\n",
      "Previous hash: 003a21e1ee316d13542645d368bf125c9c854641795c15ff75cb52ffdc310289\n",
      "Hash:006ae0f426a0ca67c74f376300ebadac2998e2c6fc5f5eca2c8a07c8ac0e9a52\n",
      "{'Sender': 'Ray', 'Recipient': 'Joe', 'Amount(HKD)': 200, 'Datetime': 1617800629.1033483}\n",
      "{'Sender': 'Peter', 'Recipient': 'Bill', 'Amount(HKD)': 400, 'Datetime': 1617800629.1043189}\n",
      "\n",
      "Block 3:\n",
      "Nounce 129\n",
      "Createion time: 2021-04-07 21:03:49\n",
      "Previous hash: 006ae0f426a0ca67c74f376300ebadac2998e2c6fc5f5eca2c8a07c8ac0e9a52\n",
      "Hash:002fa2e91a54f4db83305f4c13ab1c6cc00eb61457d39d9cb441ae3dcfc4bf53\n",
      "{'Sender': 'Christine', 'Recipient': 'Ray', 'Amount(HKD)': 300, 'Datetime': 1617800629.1043189}\n",
      "{'Sender': 'Peter', 'Recipient': 'Ray', 'Amount(HKD)': 500, 'Datetime': 1617800629.1043189}\n",
      "{'Sender': 'Ray', 'Recipient': 'Amy', 'Amount(HKD)': 100, 'Datetime': 1617800629.1043189}\n",
      "{'Sender': 'Peter', 'Recipient': 'Bill', 'Amount(HKD)': 200, 'Datetime': 1617800629.1043189}\n",
      "\n"
     ]
    }
   ],
   "source": [
    "# Print the chain out\n",
    "blockchain.print()"
   ]
  },
  {
   "cell_type": "markdown",
   "id": "grand-philosophy",
   "metadata": {},
   "source": [
    "\n",
    "## Exercise 1\n",
    "\n",
    "Change the difficulty level from 2 to the followings in the above `add_new_block()` function:\n",
    "1.  `difficulty = 3` \n",
    "2.  `difficulty = 4` \n",
    "3.  `difficulty = 5` \n",
    "\n",
    "How much time is needed for adding a new block in each difficulty? Does the time required has been increased linearly?\n"
   ]
  },
  {
   "cell_type": "markdown",
   "id": "effective-afghanistan",
   "metadata": {},
   "source": [
    "## Check for Malicious Changes \n",
    "\n",
    "- Blockchain blocks are cryptographically linked to each other by the hash value.\n",
    "- Each block contains the hash value of its previous block.\n",
    "- If someone tried to tamper with the data in a specific block, the hash of that particular block and all the subsequent blocks will be changed. That will void the blockchain.\n",
    "\n",
    "We write the function `is_valid()` to check the hash link.\n",
    "\n",
    "```\n",
    "    def is_valid(self):\n",
    "        length = len(self.blocks)  \n",
    "        for i in range(0,length):   # loop all the blocks\n",
    "            if i != 0:  # skip the genesis block\n",
    "                if self.hash(self.blocks[i-1]) != self.blocks[i][\"previous_hash\"]:\n",
    "                    return False\n",
    "        return True\n",
    "        \n",
    "```"
   ]
  },
  {
   "cell_type": "code",
   "execution_count": 6,
   "id": "wrong-chicago",
   "metadata": {},
   "outputs": [],
   "source": [
    "import time\n",
    "import json\n",
    "import hashlib\n",
    "import datetime\n",
    "\n",
    "class BlockChain:\n",
    "    def __init__(self):\n",
    "        self.blocks = []  # empty chain\n",
    "        self.mem_pool = [] # empty list\n",
    "        \n",
    "        ## add Genesis block\n",
    "        self.add_new_block(\"Genesis Block\")\n",
    "        \n",
    "        \n",
    "    def new_transaction(self, sender, recipient, amount):\n",
    "        transaction = {\n",
    "            \"Sender\": sender,\n",
    "            \"Recipient\": recipient,\n",
    "            \"Amount(HKD)\": amount,\n",
    "            \"Datetime\": time.time()\n",
    "        }\n",
    "        self.mem_pool.append(transaction)\n",
    "    \n",
    "    def add_new_block(self, previous_hash=None):\n",
    "        \n",
    "        difficulty = 2 # number of leading zeros needed\n",
    "        \n",
    "        nounce = 1 # set nounce to 1 first\n",
    "        \n",
    "        block = {\n",
    "            'index': len(self.blocks) + 1,  # the next value of index\n",
    "            'timestamp': time.time(),\n",
    "            'transactions': self.mem_pool,\n",
    "            'nounce': nounce,\n",
    "            'previous_hash': previous_hash or self.hash(self.blocks[-1]),\n",
    "        }\n",
    "        \n",
    "        hash_value = self.hash(block)\n",
    "        \n",
    "        # time the process\n",
    "        print(\"Try adding block...\")\n",
    "        start_time = time.time()\n",
    "        \n",
    "        while not self.check_leading_zeros(hash_value, difficulty):\n",
    "            nounce = nounce + 1  # try next nounce\n",
    "            block['nounce'] = nounce\n",
    "            hash_value = self.hash(block)\n",
    "\n",
    "            \n",
    "        \n",
    "        \n",
    "        self.mem_pool = [] # clear the pool\n",
    "        self.blocks.append(block) # append the block to the chain\n",
    "        \n",
    "        \n",
    "        print(\"Block added.\")\n",
    "        end_time = time.time()\n",
    "        print(\"Total time needed is {} seconds:\".format(end_time - start_time))\n",
    "        \n",
    "        # return block\n",
    "    \n",
    "    def hash(self, block):\n",
    "        data = json.dumps(block, sort_keys=True)  # convert the json object to string\n",
    "        return hashlib.sha256(data.encode()).hexdigest()\n",
    "        \n",
    "    def print(self):\n",
    "        for block in self.blocks:\n",
    "            print(\"Block {}:\".format(block['index']))\n",
    "            print(\"Nounce {}\".format(block['nounce']))\n",
    "            print(\"Createion time: {}\".format( self.convert_time(block['timestamp'])))\n",
    "            print(\"Previous hash: {}\".format(block['previous_hash']))\n",
    "            print(\"Hash:{}\".format(self.hash(block)))\n",
    "\n",
    "            for transaction in block[\"transactions\"]:\n",
    "                print(transaction)\n",
    "\n",
    "            print(\"\")\n",
    "        \n",
    "    def convert_time(self, timestamp):\n",
    "        return datetime.datetime.fromtimestamp(timestamp).strftime(\"%Y-%m-%d %H:%M:%S\")\n",
    "        \n",
    "    def check_leading_zeros(self, hash_value, difficulty):    \n",
    "        for i in range(0, difficulty): # extract the character at first difficulty_level position\n",
    "            if hash_value[i] != \"0\":\n",
    "                return False\n",
    "        return True\n",
    "    \n",
    "    def is_valid(self):\n",
    "        length = len(self.blocks)\n",
    "        for i in range(0,length):\n",
    "            if i != 0:  # skip the genesis block\n",
    "                if self.hash(self.blocks[i-1]) != self.blocks[i][\"previous_hash\"]:\n",
    "                    return False\n",
    "        return True"
   ]
  },
  {
   "cell_type": "markdown",
   "id": "familiar-hostel",
   "metadata": {},
   "source": [
    "## Test the blockchain\n",
    "\n",
    "### 1. Build the chain"
   ]
  },
  {
   "cell_type": "code",
   "execution_count": 7,
   "id": "after-billion",
   "metadata": {},
   "outputs": [
    {
     "name": "stdout",
     "output_type": "stream",
     "text": [
      "Try adding block...\n",
      "Block added.\n",
      "Total time needed is 0.0040171146392822266 seconds:\n",
      "Try adding block...\n",
      "Block added.\n",
      "Total time needed is 0.005958080291748047 seconds:\n",
      "Try adding block...\n",
      "Block added.\n",
      "Total time needed is 0.0009963512420654297 seconds:\n"
     ]
    }
   ],
   "source": [
    "blockchain = BlockChain()\n",
    "\n",
    "blockchain.new_transaction(\"Ray\", \"Joe\", 200)\n",
    "blockchain.new_transaction(\"Peter\", \"Bill\", 400)\n",
    "blockchain.add_new_block()\n",
    "\n",
    "\n",
    "blockchain.new_transaction(\"Christine\", \"Ray\", 300)\n",
    "blockchain.new_transaction(\"Peter\", \"Ray\", 500)\n",
    "blockchain.new_transaction(\"Ray\", \"Amy\", 100)\n",
    "blockchain.new_transaction(\"Peter\", \"Bill\", 200)\n",
    "blockchain.add_new_block()\n",
    "\n"
   ]
  },
  {
   "cell_type": "markdown",
   "id": "banned-durham",
   "metadata": {},
   "source": [
    "### 2. Print the chain"
   ]
  },
  {
   "cell_type": "code",
   "execution_count": 8,
   "id": "contrary-requirement",
   "metadata": {},
   "outputs": [
    {
     "name": "stdout",
     "output_type": "stream",
     "text": [
      "Block 1:\n",
      "Nounce 457\n",
      "Createion time: 2021-04-07 21:03:49\n",
      "Previous hash: Genesis Block\n",
      "Hash:00692bc691c29c121bca9f99c32e0cca78cf13e2c637701fb8ad2ebe250411da\n",
      "\n",
      "Block 2:\n",
      "Nounce 470\n",
      "Createion time: 2021-04-07 21:03:49\n",
      "Previous hash: 00692bc691c29c121bca9f99c32e0cca78cf13e2c637701fb8ad2ebe250411da\n",
      "Hash:003735d6bd99ca12c4b4b78d98bd48c99ed3a87860a8cc360654c01deb45a03b\n",
      "{'Sender': 'Ray', 'Recipient': 'Joe', 'Amount(HKD)': 200, 'Datetime': 1617800629.1671774}\n",
      "{'Sender': 'Peter', 'Recipient': 'Bill', 'Amount(HKD)': 400, 'Datetime': 1617800629.1671774}\n",
      "\n",
      "Block 3:\n",
      "Nounce 66\n",
      "Createion time: 2021-04-07 21:03:49\n",
      "Previous hash: 003735d6bd99ca12c4b4b78d98bd48c99ed3a87860a8cc360654c01deb45a03b\n",
      "Hash:00a235282c4599558e7dc5ab615547a93a956bc70c72ea4e6581c1c3d261fd06\n",
      "{'Sender': 'Christine', 'Recipient': 'Ray', 'Amount(HKD)': 300, 'Datetime': 1617800629.1731355}\n",
      "{'Sender': 'Peter', 'Recipient': 'Ray', 'Amount(HKD)': 500, 'Datetime': 1617800629.1731355}\n",
      "{'Sender': 'Ray', 'Recipient': 'Amy', 'Amount(HKD)': 100, 'Datetime': 1617800629.1731355}\n",
      "{'Sender': 'Peter', 'Recipient': 'Bill', 'Amount(HKD)': 200, 'Datetime': 1617800629.1731355}\n",
      "\n"
     ]
    }
   ],
   "source": [
    "blockchain.print()"
   ]
  },
  {
   "cell_type": "markdown",
   "id": "hindu-brunswick",
   "metadata": {},
   "source": [
    "### 3. Check the chain"
   ]
  },
  {
   "cell_type": "code",
   "execution_count": 9,
   "id": "private-entertainment",
   "metadata": {},
   "outputs": [
    {
     "data": {
      "text/plain": [
       "True"
      ]
     },
     "execution_count": 9,
     "metadata": {},
     "output_type": "execute_result"
    }
   ],
   "source": [
    "blockchain.is_valid()"
   ]
  },
  {
   "cell_type": "markdown",
   "id": "relevant-secretary",
   "metadata": {},
   "source": [
    "### 4. Alter the block data\n",
    "\n",
    "Now, we change the data in the 2nd transaction by changing the amount from \\$400 to \\$200.\n",
    "\n",
    "The blockchain is no longer be valid after the change."
   ]
  },
  {
   "cell_type": "code",
   "execution_count": 10,
   "id": "afraid-private",
   "metadata": {},
   "outputs": [
    {
     "data": {
      "text/plain": [
       "400"
      ]
     },
     "execution_count": 10,
     "metadata": {},
     "output_type": "execute_result"
    }
   ],
   "source": [
    "# check the original value\n",
    "blockchain.blocks[1]['transactions'][1]['Amount(HKD)'] "
   ]
  },
  {
   "cell_type": "code",
   "execution_count": 11,
   "id": "successful-abraham",
   "metadata": {},
   "outputs": [],
   "source": [
    "# Now change a little thing in block 2 \n",
    "blockchain.blocks[1]['transactions'][1]['Amount(HKD)'] = 200"
   ]
  },
  {
   "cell_type": "code",
   "execution_count": 12,
   "id": "double-basin",
   "metadata": {},
   "outputs": [
    {
     "data": {
      "text/plain": [
       "False"
      ]
     },
     "execution_count": 12,
     "metadata": {},
     "output_type": "execute_result"
    }
   ],
   "source": [
    "blockchain.is_valid()"
   ]
  },
  {
   "cell_type": "markdown",
   "id": "median-blogger",
   "metadata": {},
   "source": [
    "### 5. Print the chain again\n",
    "\n",
    "Now, print the chain out again and check the details."
   ]
  },
  {
   "cell_type": "code",
   "execution_count": 13,
   "id": "surrounded-amsterdam",
   "metadata": {},
   "outputs": [
    {
     "name": "stdout",
     "output_type": "stream",
     "text": [
      "Block 1:\n",
      "Nounce 457\n",
      "Createion time: 2021-04-07 21:03:49\n",
      "Previous hash: Genesis Block\n",
      "Hash:00692bc691c29c121bca9f99c32e0cca78cf13e2c637701fb8ad2ebe250411da\n",
      "\n",
      "Block 2:\n",
      "Nounce 470\n",
      "Createion time: 2021-04-07 21:03:49\n",
      "Previous hash: 00692bc691c29c121bca9f99c32e0cca78cf13e2c637701fb8ad2ebe250411da\n",
      "Hash:7130f142b33116af3cf4aded29bdfc3ed4946e5d87812df5e9d276f3b447edba\n",
      "{'Sender': 'Ray', 'Recipient': 'Joe', 'Amount(HKD)': 200, 'Datetime': 1617800629.1671774}\n",
      "{'Sender': 'Peter', 'Recipient': 'Bill', 'Amount(HKD)': 200, 'Datetime': 1617800629.1671774}\n",
      "\n",
      "Block 3:\n",
      "Nounce 66\n",
      "Createion time: 2021-04-07 21:03:49\n",
      "Previous hash: 003735d6bd99ca12c4b4b78d98bd48c99ed3a87860a8cc360654c01deb45a03b\n",
      "Hash:00a235282c4599558e7dc5ab615547a93a956bc70c72ea4e6581c1c3d261fd06\n",
      "{'Sender': 'Christine', 'Recipient': 'Ray', 'Amount(HKD)': 300, 'Datetime': 1617800629.1731355}\n",
      "{'Sender': 'Peter', 'Recipient': 'Ray', 'Amount(HKD)': 500, 'Datetime': 1617800629.1731355}\n",
      "{'Sender': 'Ray', 'Recipient': 'Amy', 'Amount(HKD)': 100, 'Datetime': 1617800629.1731355}\n",
      "{'Sender': 'Peter', 'Recipient': 'Bill', 'Amount(HKD)': 200, 'Datetime': 1617800629.1731355}\n",
      "\n"
     ]
    }
   ],
   "source": [
    "blockchain.print()"
   ]
  },
  {
   "cell_type": "markdown",
   "id": "organizational-punishment",
   "metadata": {},
   "source": [
    "# End"
   ]
  }
 ],
 "metadata": {
  "kernelspec": {
   "display_name": "fintechlab",
   "language": "python",
   "name": "fintechlab"
  },
  "language_info": {
   "codemirror_mode": {
    "name": "ipython",
    "version": 3
   },
   "file_extension": ".py",
   "mimetype": "text/x-python",
   "name": "python",
   "nbconvert_exporter": "python",
   "pygments_lexer": "ipython3",
   "version": "3.8.5"
  }
 },
 "nbformat": 4,
 "nbformat_minor": 5
}
